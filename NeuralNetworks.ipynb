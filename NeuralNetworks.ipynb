{
  "cells": [
    {
      "cell_type": "markdown",
      "metadata": {
        "id": "m3YDtSxjptXt"
      },
      "source": [
        "# Neural Networks\n",
        "\n",
        "In this exercise you will learn how to implement a feedforward neural network and train it with backpropagation."
      ]
    },
    {
      "cell_type": "code",
      "execution_count": 1180,
      "metadata": {
        "id": "TOF5ehVhptXv"
      },
      "outputs": [],
      "source": [
        "import numpy as np\n",
        "from numpy.random import multivariate_normal\n",
        "from numpy.random import uniform\n",
        "from scipy.stats import zscore"
      ]
    },
    {
      "cell_type": "markdown",
      "metadata": {
        "id": "jo6F_ZTVptXw"
      },
      "source": [
        "We define two helper functions \"init_toy_data\" and \"init_model\" to create a simple data set to work on and a 2 layer neural network. "
      ]
    },
    {
      "cell_type": "markdown",
      "metadata": {
        "id": "2rje5MYtptXx"
      },
      "source": [
        "First, we create toy data with categorical labels by sampling from different multivariate normal distributions for each class. "
      ]
    },
    {
      "cell_type": "code",
      "execution_count": 1181,
      "metadata": {
        "id": "82g8WBTXptXx"
      },
      "outputs": [],
      "source": [
        "def init_toy_data(num_samples,num_features, num_classes, seed=3):\n",
        "    # num_samples: number of samples *per class*\n",
        "    # num_features: number of features (excluding bias)\n",
        "    # num_classes: number of class labels\n",
        "    # seed: random seed\n",
        "    np.random.seed(seed)\n",
        "    X=np.zeros((num_samples*num_classes, num_features))\n",
        "    y=np.zeros(num_samples*num_classes)\n",
        "    for c in range(num_classes):\n",
        "        # initialize multivariate normal distribution for this class:\n",
        "        # choose a mean for each feature\n",
        "        means = uniform(low=-10, high=10, size=num_features)\n",
        "        # choose a variance for each feature\n",
        "        var = uniform(low=1.0, high=5, size=num_features)\n",
        "        # for simplicity, all features are uncorrelated (covariance between any two features is 0)\n",
        "        cov = var * np.eye(num_features)\n",
        "        # draw samples from normal distribution\n",
        "        X[c*num_samples:c*num_samples+num_samples,:] = multivariate_normal(means, cov, size=num_samples)\n",
        "        # set label\n",
        "        y[c*num_samples:c*num_samples+num_samples] = c\n",
        "    return X,y\n"
      ]
    },
    {
      "cell_type": "code",
      "execution_count": 1182,
      "metadata": {
        "id": "Y28dcb7bptXy"
      },
      "outputs": [],
      "source": [
        "def init_model(input_size,hidden_size,num_classes, seed=3):\n",
        "    # input size: number of input features\n",
        "    # hidden_size: number of units in the hidden layer\n",
        "    # num_classes: number of class labels, i.e., number of output units\n",
        "    np.random.seed(seed)\n",
        "    model = {}\n",
        "    # initialize weight matrices and biases randomly\n",
        "    model['W1'] = uniform(low=-1, high=1, size=(input_size, hidden_size))\n",
        "    model['b1'] = uniform(low=-1, high=1, size=hidden_size)\n",
        "    model['W2'] = uniform(low=-1, high=1, size=(hidden_size, num_classes))\n",
        "    model['b2'] = uniform(low=-1, high=1, size=num_classes)\n",
        "    return model"
      ]
    },
    {
      "cell_type": "code",
      "execution_count": 1183,
      "metadata": {
        "id": "2eip8kX7ptXz"
      },
      "outputs": [
        {
          "name": "stdout",
          "output_type": "stream",
          "text": [
            "X: [[ 0.39636145  1.09468144 -0.89360845  0.91815536]\n",
            " [ 0.94419323 -0.94027869  1.22268078  1.29597409]\n",
            " [-1.41577399  1.15477931 -0.62099631  0.08323307]\n",
            " [-1.35264614 -0.13598976 -1.14221784  0.26928935]\n",
            " [ 0.9352123   0.38225626  1.419864   -1.51152157]\n",
            " [ 0.49265316 -1.55544856  0.01427781 -1.0551303 ]]\n",
            "y: [0. 0. 1. 1. 2. 2.]\n"
          ]
        }
      ],
      "source": [
        "# create toy data\n",
        "X,y= init_toy_data(2,4,3) # 2 samples per class; 4 features, 3 classes\n",
        "# Normalize data\n",
        "X = zscore(X, axis=0)\n",
        "print('X: ' + str(X))\n",
        "print('y: ' + str(y))"
      ]
    },
    {
      "cell_type": "markdown",
      "metadata": {
        "id": "XpCCDC2mptXz"
      },
      "source": [
        "We now initialise our neural net with one hidden layer consisting of $10$ units and and an output layer consisting of $3$ units. Here we expect (any number of) training samples with $4$ features. We do not apply any activation functions yet. The following figure shows a graphical representation of this neuronal net. \n",
        "\n",
        "<img src=\"nn.graphviz.png\"  width=\"30%\" height=\"30%\">"
      ]
    },
    {
      "cell_type": "code",
      "execution_count": 1184,
      "metadata": {
        "id": "99BAxa6RptX0"
      },
      "outputs": [
        {
          "name": "stdout",
          "output_type": "stream",
          "text": [
            "model: {'W1': array([[ 0.10159581,  0.41629565, -0.41819052,  0.02165521,  0.78589391,\n",
            "         0.79258618, -0.74882938, -0.58551424, -0.89706559, -0.11838031],\n",
            "       [-0.94024758, -0.08633355,  0.2982881 , -0.44302543,  0.3525098 ,\n",
            "         0.18172563, -0.95203624,  0.11770818, -0.48149511, -0.16979761],\n",
            "       [-0.43294984,  0.38627584, -0.11909256, -0.68626452,  0.08929804,\n",
            "         0.56062953, -0.38727294, -0.55608423, -0.22405748,  0.8727673 ],\n",
            "       [ 0.95199084,  0.34476735,  0.80566822,  0.69150174, -0.24401192,\n",
            "        -0.81556598,  0.30682181,  0.11568152, -0.27687047, -0.54989099]]), 'b1': array([-0.18696017, -0.0621195 , -0.46152884, -0.41641445, -0.0846272 ,\n",
            "        0.72106783,  0.17250581, -0.43302428, -0.44404499, -0.09075585]), 'W2': array([[-0.58917931, -0.59724258,  0.02807012],\n",
            "       [-0.82554126, -0.03282894, -0.27564758],\n",
            "       [ 0.41537324,  0.49349245,  0.38218584],\n",
            "       [ 0.37836083, -0.25279975,  0.33626961],\n",
            "       [-0.32030267,  0.14558774, -0.34838568],\n",
            "       [-0.1097099 , -0.87694214, -0.51464916],\n",
            "       [ 0.94320521, -0.53883159,  0.38295502],\n",
            "       [ 0.30095372,  0.44787828, -0.04982278],\n",
            "       [ 0.19332755, -0.86606115, -0.85487572],\n",
            "       [-0.60204795, -0.69627801, -0.79979131]]), 'b2': array([-0.74141227,  0.10655546, -0.62437035])}\n",
            "model['W1'].shape: (4, 10)\n",
            "model['W2'].shape: (10, 3)\n",
            "model['b1'].shape: (10,)\n",
            "model['b2'].shape: (3,)\n",
            "number of parameters: 83\n"
          ]
        }
      ],
      "source": [
        "# initialize model\n",
        "model = init_model(input_size=4, hidden_size=10, num_classes=3)\n",
        "\n",
        "print('model: ' + str(model))\n",
        "print('model[\\'W1\\'].shape: ' + str(model['W1'].shape))\n",
        "print('model[\\'W2\\'].shape: ' + str(model['W2'].shape))\n",
        "print('model[\\'b1\\'].shape: ' + str(model['b1'].shape))\n",
        "print('model[\\'b2\\'].shape: ' + str(model['b2'].shape))\n",
        "print('number of parameters: ' + str((model['W1'].shape[0] * model['W1'].shape[1]) + \n",
        "     np.sum(model['W2'].shape[0] * model['W2'].shape[1]) + \n",
        "     np.sum(model['b1'].shape[0]) +\n",
        "     np.sum(model['b2'].shape[0] )))"
      ]
    },
    {
      "cell_type": "markdown",
      "metadata": {
        "id": "Ojs6ScguptX1"
      },
      "source": [
        "<b>Exercise 1</b>: Implement softmax layer.\n",
        "\n",
        "Implement the softmax function given by \n",
        "\n",
        "$softmax(x_i) = \\frac{e^{x_i}}{{\\sum_{j\\in 1...J}e^{x_j}}}$, \n",
        "\n",
        "where $J$ is the total number of classes, i.e. the length of  **x** .\n",
        "\n",
        "Note: Implement the function such that it takes a matrix X of shape (N, J) as input rather than a single instance **x**; N is the number of instances."
      ]
    },
    {
      "cell_type": "code",
      "execution_count": 1185,
      "metadata": {
        "id": "GcgC5wMvptX1"
      },
      "outputs": [],
      "source": [
        "def softmax(X):\n",
        "    #######################################\n",
        "    # INSERT YOUR CODE HERE               #\n",
        "    #######################################\n",
        "    softmax = []\n",
        "    for i in range(0,len(X)): #loop through column\n",
        "        softmax.append([])\n",
        "        tmp = 0 #temporary variabel to compute denominator\n",
        "        for j in range(0,len(X[i])): #loop through row\n",
        "            tmp += np.e**X[i][j] #add to sum\n",
        "        for j in range(0,len(X[i])): #loop again through row to compute softmax with generated tmp\n",
        "            softmax[i].append(np.e**X[i][j] / tmp) #append the softmax for cell of iteration\n",
        "    return np.array(softmax)"
      ]
    },
    {
      "cell_type": "markdown",
      "metadata": {
        "id": "7-BcVCIqptX2"
      },
      "source": [
        "Check if everything is correct."
      ]
    },
    {
      "cell_type": "code",
      "execution_count": 1186,
      "metadata": {
        "id": "recCBdmqptX2"
      },
      "outputs": [
        {
          "name": "stdout",
          "output_type": "stream",
          "text": [
            "Testing successful.\n"
          ]
        }
      ],
      "source": [
        "x = np.array([[0.1, 0.7],[0.7,0.4]])\n",
        "exact_softmax = np.array([[ 0.35434369,  0.64565631],\n",
        "                         [ 0.57444252,  0.42555748]])\n",
        "sm = softmax(x)\n",
        "difference = np.sum(np.abs(exact_softmax - sm))\n",
        "try:\n",
        "    assert difference < 0.000001   \n",
        "    print(\"Testing successful.\")\n",
        "except:\n",
        "    print(\"Tests failed.\")"
      ]
    },
    {
      "cell_type": "markdown",
      "metadata": {
        "id": "bO0gCmA3ptX3"
      },
      "source": [
        "<b>Exercise 2</b>: Implement the forward propagation algorithm for the model defined above.\n",
        "\n",
        "The activation function of the hidden neurons is a Rectified Linear Unit $relu(x)=max(0,x)$ (to be applied element-wise to the hidden units)\n",
        "The activation function of the output layer is a softmax function as (as implemented in Exercise 1).\n",
        "\n",
        "The function should return both the activation of the hidden units (after having applied the $relu$ activation function) (shape: $(N, num\\_hidden)$) and the softmax model output (shape: $(N, num\\_classes)$). "
      ]
    },
    {
      "cell_type": "code",
      "execution_count": 1187,
      "metadata": {
        "id": "pze-k4-XptX3"
      },
      "outputs": [],
      "source": [
        "def forward_prop(X,model):\n",
        "    W1=model['W1']\n",
        "    b1=model['b1']\n",
        "    W2=model['W2']\n",
        "    b2=model['b2']\n",
        "    ###############################################\n",
        "    # INSERT YOUR CODE HERE                       #\n",
        "    ###############################################\n",
        "    probs = np.dot(X,W1) + b1 #apply first weights and first bias on input layer\n",
        "    hidden_activations = [] #list to collect the hidden activations\n",
        "    for i in range(0,len(probs)): #loop through row of hidden layer\n",
        "        hidden_activations.append([])\n",
        "        for j in range(0,len(probs[i])): #loop through column of hidden layer\n",
        "            hidden_activations[i].append(max(0,probs[i][j])) #compute relu(x)\n",
        "    hidden_activations = np.array(hidden_activations) #cast to numpy array\n",
        "    probs = np.dot(hidden_activations,W2) + b2 #apply second weight and second bias to hidden layer\n",
        "    probs = softmax(probs) #compute output\n",
        "    return hidden_activations,probs"
      ]
    },
    {
      "cell_type": "code",
      "execution_count": 1188,
      "metadata": {
        "id": "SHrLsiylptX3",
        "scrolled": true
      },
      "outputs": [
        {
          "name": "stdout",
          "output_type": "stream",
          "text": [
            "Testing successful.\n"
          ]
        }
      ],
      "source": [
        "acts,probs = forward_prop(X, model)\n",
        "correct_probs = np.array([[0.22836388, 0.51816433, 0.25347179],\n",
        "                            [0.15853289, 0.33057078, 0.51089632],\n",
        "                            [0.40710319, 0.41765056, 0.17524624],\n",
        "                            [0.85151353, 0.03656425, 0.11192222],\n",
        "                            [0.66016592, 0.19839791, 0.14143618],\n",
        "                            [0.70362036, 0.08667923, 0.20970041]])\n",
        "\n",
        "# the difference should be very small.\n",
        "difference =  np.sum(np.abs(probs - correct_probs))\n",
        "\n",
        "try:\n",
        "    assert probs.shape==(X.shape[0],len(set(y)))\n",
        "    assert difference < 0.00001   \n",
        "    print(\"Testing successful.\")\n",
        "except:\n",
        "    print(\"Tests failed.\")"
      ]
    },
    {
      "cell_type": "markdown",
      "metadata": {
        "id": "cGef2WaLptX4"
      },
      "source": [
        "<b>Exercise 3:</b> \n",
        "\n",
        "How would you train the above defined neural network? Which loss-function would you use? You do not need to implement this."
      ]
    },
    {
      "cell_type": "markdown",
      "metadata": {
        "id": "dSP8x8NEptX4"
      },
      "source": [
        "<b>Part 2 (Neural Net using Keras)</b>\n",
        "\n",
        "Instead of implementing the model learning ourselves, we can use the neural network library Keras for Python (https://keras.io/). Keras is an abstraction layer that either builds on top of Theano or Google's Tensorflow. So please install Keras and Tensorflow/Theano for this lab."
      ]
    },
    {
      "cell_type": "markdown",
      "metadata": {
        "id": "HKozKPKmptX4"
      },
      "source": [
        "<b>Exercise 4:</b>\n",
        "    Implement the same model as above using Keras:\n",
        "    \n",
        "    ** 1 hidden layer à 10 units\n",
        "    ** softmax output layer à three units\n",
        "    ** 4 input features\n",
        "    \n",
        "Compile the model using categorical cross-entropy (also referred to as 'softmax-loss') as loss function and using categorical crossentropy together with categorical accuracy as metrics for runtime evaluation during training.\n",
        "\n",
        "Hint 1: Use the Sequential Class API of Keras (https://keras.io/api/models/sequential/ or https://www.tensorflow.org/guide/keras/sequential_model)\n",
        "\n",
        "Hint 2: You can use the Adam optimizer of Keras for the model compilation"
      ]
    },
    {
      "cell_type": "code",
      "execution_count": 1189,
      "metadata": {
        "id": "pZqK7kxhptX5"
      },
      "outputs": [],
      "source": [
        "from keras.models import Sequential\n",
        "from keras.layers.core import Dense\n",
        "from keras.layers.core import Activation\n",
        "\n",
        "# define the model \n",
        "################################################\n",
        "# INSERT YOUR CODE HERE                        #\n",
        "################################################\n",
        "model = Sequential()\n",
        "hidden_layer = Dense(10,input_shape=(4,)) #define hidden layer with 10 units and 4 input features\n",
        "output_layer = Dense(3) #define output layer with 3 units\n",
        "softmax_layer = Activation(activation=\"softmax\") #define softmax on top of the output layer\n",
        "model.add(hidden_layer) #add hidden layer to the model\n",
        "model.add(output_layer) #add output layer to the model\n",
        "model.add(softmax_layer) #add softmax layer to the model\n",
        "\n",
        "\n",
        "# compile the model\n",
        "################################################\n",
        "# INSERT YOUR CODE HERE                        #\n",
        "################################################\n",
        "model.compile(optimizer=\"adam\",loss=\"categorical_crossentropy\")"
      ]
    },
    {
      "cell_type": "markdown",
      "metadata": {
        "id": "1QhNMmKGptX5"
      },
      "source": [
        "The description of the current network can always be looked at via the summary method. The layers can be accessed via model.layers and weights can be obtained with the method get_weights. Check if your model is as expected. "
      ]
    },
    {
      "cell_type": "code",
      "execution_count": 1190,
      "metadata": {
        "id": "abzHV5AxptX5"
      },
      "outputs": [
        {
          "name": "stdout",
          "output_type": "stream",
          "text": [
            "First layer weights: [[ 0.02003604  0.0821476   0.48204148  0.17637426 -0.03980035  0.3142873\n",
            "  -0.24319637 -0.03022254  0.5806773  -0.22915244]\n",
            " [-0.54485744  0.5679556  -0.49870333 -0.02546191  0.5452125   0.2499305\n",
            "  -0.3062349  -0.38232765  0.5788032   0.5034324 ]\n",
            " [-0.13465971  0.33133203  0.48852134  0.12132549  0.42885172  0.19966489\n",
            "   0.36844587 -0.14712018  0.59116673 -0.51782095]\n",
            " [ 0.22869635  0.5383967  -0.6482306   0.5990889  -0.0887602  -0.3819301\n",
            "  -0.00520873 -0.5908096  -0.06803423 -0.5385958 ]]; shape: (4, 10)\n",
            "First layer bias: [0. 0. 0. 0. 0. 0. 0. 0. 0. 0.]; shape: (10,)\n",
            "Second layer weights: [[-0.37382147  0.44657695  0.36236715]\n",
            " [ 0.48784554 -0.54496384 -0.46138775]\n",
            " [ 0.09304863  0.28755224 -0.5352305 ]\n",
            " [ 0.65812147  0.15202641  0.66281605]\n",
            " [ 0.34509063 -0.00986987  0.12270272]\n",
            " [ 0.08083677  0.14483106 -0.05168605]\n",
            " [-0.26013273 -0.09492815  0.26139206]\n",
            " [ 0.3270017   0.6195742   0.05061865]\n",
            " [-0.4500135  -0.2675555   0.67798805]\n",
            " [ 0.04589635  0.38846457 -0.5953517 ]]; shape: (10, 3)\n",
            "Second layer bias: [0. 0. 0.]; shape: (3,)\n",
            "number of layes: 3\n",
            "Model: \"sequential_96\"\n",
            "_________________________________________________________________\n",
            " Layer (type)                Output Shape              Param #   \n",
            "=================================================================\n",
            " dense_191 (Dense)           (None, 10)                50        \n",
            "                                                                 \n",
            " dense_192 (Dense)           (None, 3)                 33        \n",
            "                                                                 \n",
            " activation_12 (Activation)  (None, 3)                 0         \n",
            "                                                                 \n",
            "=================================================================\n",
            "Total params: 83\n",
            "Trainable params: 83\n",
            "Non-trainable params: 0\n",
            "_________________________________________________________________\n"
          ]
        }
      ],
      "source": [
        "# Check model architecture and initial weights.\n",
        "\n",
        "W_1, b_1 = model.layers[0].get_weights()\n",
        "print(\"First layer weights: %s; shape: %s\" % (W_1,W_1.shape))\n",
        "print(\"First layer bias: %s; shape: %s\" % (b_1,b_1.shape))\n",
        "W_2, b_2 = model.layers[1].get_weights()\n",
        "print(\"Second layer weights: %s; shape: %s\" % (W_2,W_2.shape))\n",
        "print(\"Second layer bias: %s; shape: %s\" % (b_2,b_2.shape))\n",
        "print(\"number of layes: \" + str(len(model.layers)))\n",
        "model.summary()\n"
      ]
    },
    {
      "cell_type": "markdown",
      "metadata": {
        "collapsed": true,
        "id": "sk8x5Dy0ptX5"
      },
      "source": [
        "<b>Exercise 5:</b> Train the model on the toy data set generated below: \n",
        "\n",
        "Hints: \n",
        "\n",
        "* Keras expects one-hot-coded labels \n",
        "\n",
        "* Don't forget to normalize the data"
      ]
    },
    {
      "cell_type": "code",
      "execution_count": 1191,
      "metadata": {
        "id": "_4mu3twRptX6"
      },
      "outputs": [
        {
          "name": "stdout",
          "output_type": "stream",
          "text": [
            "63/63 [==============================] - 0s 661us/step - loss: 0.2496\n",
            "31/31 [==============================] - 0s 567us/step\n",
            "The accuracy of the trained model is: 0.9424242424242424\n"
          ]
        }
      ],
      "source": [
        "from sklearn.model_selection import train_test_split\n",
        "from sklearn.metrics import accuracy_score\n",
        "from keras.utils import to_categorical\n",
        "\n",
        "X, y = init_toy_data(1000,4,3, seed=3)\n",
        "\n",
        "X_train, X_test, y_train, y_test = train_test_split(X,y,test_size=0.33,random_state=67)\n",
        "\n",
        "##################################\n",
        "# INSERT YOUR CODE HERE          #\n",
        "##################################\n",
        "\n",
        "def normalize(y_pred):\n",
        "    result = []\n",
        "    for i in range(0,len(y_pred)): #loop through prediction\n",
        "        #check which of the 3 categories has the highest value\n",
        "        if max(y_pred[i]) == y_pred[i][0]:\n",
        "            result.append([1,0,0]) #model decision is 0\n",
        "            continue\n",
        "        if max(y_pred[i]) == y_pred[i][1]:\n",
        "            result.append([0,1,0]) #model decision is 1\n",
        "            continue\n",
        "        if max(y_pred[i]) == y_pred[i][2]:\n",
        "            result.append([0,0,1]) #model decision is 2\n",
        "    return np.array(result)\n",
        "\n",
        "y_train = to_categorical(y_train, 3) #convert to 3 dimensional identity vektor\n",
        "y_test = to_categorical(y_test, 3) #convert to 3 dimensional identity vektor\n",
        "\n",
        "model.fit(X_train,y_train) #train model\n",
        "y_pred = normalize(model.predict(X_test)) #make prediction\n",
        "print(\"The accuracy of the trained model is:\",accuracy_score(y_true=y_test,y_pred=y_pred)) #display the accuracy of the model"
      ]
    },
    {
      "cell_type": "markdown",
      "metadata": {
        "id": "Np35zqMPjrjo"
      },
      "source": [
        "Compare the test accuracy with the train accuracy. What can you see? Is the model performing well?"
      ]
    }
  ],
  "metadata": {
    "anaconda-cloud": {},
    "colab": {
      "name": "NeuralNetworks.ipynb",
      "provenance": []
    },
    "kernelspec": {
      "display_name": "Python 3.7.9 64-bit (microsoft store)",
      "language": "python",
      "name": "python3"
    },
    "language_info": {
      "codemirror_mode": {
        "name": "ipython",
        "version": 3
      },
      "file_extension": ".py",
      "mimetype": "text/x-python",
      "name": "python",
      "nbconvert_exporter": "python",
      "pygments_lexer": "ipython3",
      "version": "3.7.9"
    },
    "vscode": {
      "interpreter": {
        "hash": "dd8680d9b855529952789a99be4eacf405b4640a03564ed58655720821616427"
      }
    }
  },
  "nbformat": 4,
  "nbformat_minor": 0
}
